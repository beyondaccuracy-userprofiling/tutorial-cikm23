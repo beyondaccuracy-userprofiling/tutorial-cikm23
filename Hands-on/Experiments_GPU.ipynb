{
 "cells": [
  {
   "attachments": {},
   "cell_type": "markdown",
   "metadata": {},
   "source": [
    "# Experiments on *personal* GPU"
   ]
  },
  {
   "cell_type": "code",
   "execution_count": null,
   "metadata": {},
   "outputs": [],
   "source": [
    "# Libraries\n",
    "import os"
   ]
  },
  {
   "attachments": {},
   "cell_type": "markdown",
   "metadata": {},
   "source": [
    "---\n",
    "## CatGCN | Alibaba dataset"
   ]
  },
  {
   "cell_type": "code",
   "execution_count": null,
   "metadata": {},
   "outputs": [],
   "source": [
    "# Paths\n",
    "model_path = \"./models/CatGCN/\"\n",
    "main_file = os.path.join(model_path, \"main.py\")\n",
    "\n",
    "input_folder = os.path.join(model_path, \"input_ali_data\")\n",
    "edge_path = os.path.join(input_folder, \"user_edge.csv\")\n",
    "field_path = os.path.join(input_folder, \"user_field.npy\")\n",
    "target_path = os.path.join(input_folder, \"user_gender.csv\")\n",
    "labels_path = os.path.join(input_folder, \"user_labels.csv\")"
   ]
  },
  {
   "cell_type": "code",
   "execution_count": null,
   "metadata": {},
   "outputs": [],
   "source": [
    "# Attributes\n",
    "label = \"gender\"\n",
    "seed = \"11\"\n",
    "lr = \"0.1\"\n",
    "l2 = \"1e-5\"\n",
    "dropout = \"0.1\"\n",
    "grn_units = \"64\"\n",
    "nfm_units = \"none\"\n",
    "gnn_hops = \"1\"\n",
    "gnn_units = \"none\"\n",
    "balance_ratio = \"0.7\"\n",
    "graph_layer = \"pna\"\n",
    "compute_fairness = False\n",
    "sens_attr = \"bin_age\""
   ]
  },
  {
   "cell_type": "code",
   "execution_count": null,
   "metadata": {},
   "outputs": [],
   "source": [
    "# Run command (NOT IN COLAB)\n",
    "test = \"python3 {} --seed {} --gpu 0 --learning-rate {} --weight-decay {} --dropout {} --diag-probe 1 --graph-refining agc --aggr-pooling mean --grn-units {} --bi-interaction nfm --nfm-units {} --graph-layer {} --gnn-hops {} --gnn-units {} --aggr-style sum --balance-ratio {} --edge-path {} --field-path {} --target-path {} --labels-path {} --label {} --compute-fairness {} --sens-attr {}\".format(main_file, seed, lr, l2, dropout, grn_units, nfm_units, graph_layer, gnn_hops, gnn_units, balance_ratio, edge_path, field_path, target_path, labels_path, label, compute_fairness, sens_attr)\n",
    "\n",
    "os.system(test)"
   ]
  },
  {
   "attachments": {},
   "cell_type": "markdown",
   "metadata": {},
   "source": [
    "---\n",
    "## RHGN | JD dataset"
   ]
  },
  {
   "cell_type": "code",
   "execution_count": null,
   "metadata": {},
   "outputs": [],
   "source": [
    "# Paths\n",
    "model_path = \"./models/RHGN\"\n",
    "main_file = os.path.join(model_path, \"jd_main.py\")\n",
    "\n",
    "input_folder = os.path.join(model_path, \"input_jd_data\")"
   ]
  },
  {
   "cell_type": "code",
   "execution_count": null,
   "metadata": {},
   "outputs": [],
   "source": [
    "# Attributes\n",
    "label = \"gender\"\n",
    "seed = \"3\"\n",
    "graph = \"G\"\n",
    "n_epoch = \"50\"\n",
    "lr = \"0.001\"\n",
    "n_hid = \"64\"\n",
    "clip = \"1\"\n",
    "compute_fairness = False\n",
    "sens_attr = \"bin_age\""
   ]
  },
  {
   "cell_type": "code",
   "execution_count": null,
   "metadata": {},
   "outputs": [],
   "source": [
    "# Run command (NOT IN COLAB)\n",
    "test = \"python3 -W ignore {} --data_dir {} --model RHGN --graph {} --max_lr {} --n_hid {} --clip {} --gpu 0 --label {} --n_epoch {} --seed {} --compute-fairness {} --sens_attr {}\".format(main_file, input_folder, graph, lr, n_hid, clip, label, n_epoch, seed, compute_fairness, sens_attr)\n",
    "\n",
    "os.system(test)"
   ]
  },
  {
   "attachments": {},
   "cell_type": "markdown",
   "metadata": {},
   "source": [
    "---\n",
    "## FairGNN | NBA dataset"
   ]
  },
  {
   "cell_type": "code",
   "execution_count": null,
   "metadata": {},
   "outputs": [],
   "source": [
    "# Paths\n",
    "model_path = \"./models/FairGNN\"\n",
    "main_file = os.path.join(model_path, \"src\", \"train_fairGNN.py\")"
   ]
  },
  {
   "cell_type": "code",
   "execution_count": null,
   "metadata": {},
   "outputs": [],
   "source": [
    "# Attributes\n",
    "dataset = \"nba\"\n",
    "seed = \"42\"\n",
    "epochs = \"10\"\n",
    "model = \"GCN\"\n",
    "num_hidden = \"128\"\n",
    "acc = \"0.70\"\n",
    "roc = \"0.76\"\n",
    "alpha = \"10\"\n",
    "beta = \"1\""
   ]
  },
  {
   "cell_type": "code",
   "execution_count": null,
   "metadata": {},
   "outputs": [],
   "source": [
    "# Run command (NOT IN COLAB)\n",
    "test = \"python3 {} --seed {} --epochs {} --model {} --dataset {} --num-hidden {} --acc {} --roc {} --alpha {} --beta {}\".format(seed, epochs, model, dataset, num_hidden, acc, roc, alpha, beta)\n",
    "\n",
    "os.system(test)"
   ]
  }
 ],
 "metadata": {
  "kernelspec": {
   "display_name": "Python 3",
   "language": "python",
   "name": "python3"
  },
  "language_info": {
   "name": "python",
   "version": "3.8.1"
  },
  "orig_nbformat": 4
 },
 "nbformat": 4,
 "nbformat_minor": 2
}
